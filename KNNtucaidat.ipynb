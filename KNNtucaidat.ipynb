{
  "nbformat": 4,
  "nbformat_minor": 0,
  "metadata": {
    "colab": {
      "provenance": []
    },
    "kernelspec": {
      "name": "python3",
      "display_name": "Python 3"
    },
    "language_info": {
      "name": "python"
    }
  },
  "cells": [
    {
      "cell_type": "markdown",
      "source": [
        "**GIẢI THUẬT KNN (TỰ CÀI ĐẶT )**\n"
      ],
      "metadata": {
        "id": "61M7V0W84p9L"
      }
    },
    {
      "cell_type": "code",
      "source": [
        "import csv\n",
        "import numpy as np\n",
        "import math\n"
      ],
      "metadata": {
        "id": "NbFkcahT4wbc"
      },
      "execution_count": null,
      "outputs": []
    },
    {
      "cell_type": "code",
      "source": [
        "# KNN-----------------------------------------------------------\n",
        "# Connect to Google Drive\n",
        "from google.colab import drive\n",
        "drive.mount('/content/drive/')\n",
        "%cd /content/drive/MyDrive/MHUD"
      ],
      "metadata": {
        "colab": {
          "base_uri": "https://localhost:8080/"
        },
        "id": "j0KuXNHj5OQA",
        "outputId": "66b946b4-c179-490c-c313-52d87feb3874"
      },
      "execution_count": null,
      "outputs": [
        {
          "output_type": "stream",
          "name": "stdout",
          "text": [
            "Drive already mounted at /content/drive/; to attempt to forcibly remount, call drive.mount(\"/content/drive/\", force_remount=True).\n",
            "/content/drive/MyDrive/MHUD\n"
          ]
        }
      ]
    },
    {
      "cell_type": "code",
      "source": [
        "def loadData(path):\n",
        "  f= open(path,\"r\")\n",
        "  data = csv.reader(f)\n",
        "  data = np.array(list(data))\n",
        "  data = np.delete(data, 0, 0)\n",
        "  data = np.delete(data, 0, 1)\n",
        "  np.random.shuffle(data)\n",
        "  f.close()\n",
        "  trainSet = data[:100]\n",
        "  testSet = data[100:]\n",
        "  return trainSet, testSet"
      ],
      "metadata": {
        "id": "bP888nky5TXZ"
      },
      "execution_count": null,
      "outputs": []
    },
    {
      "cell_type": "code",
      "source": [
        "def calcDistance(pointA, pointB, numOfFeature=4):\n",
        "  tmp=0\n",
        "  for i in range(numOfFeature):\n",
        "    tmp+=(float(pointA[i]) - float(pointB[i]))**2\n",
        "\n",
        "  return math.sqrt(tmp)"
      ],
      "metadata": {
        "id": "vUbcSbuR66BO"
      },
      "execution_count": null,
      "outputs": []
    },
    {
      "cell_type": "code",
      "source": [
        "def KNeighbor(trainSet, point, k):\n",
        "  distances = []\n",
        "  for item in trainSet:\n",
        "    distances.append({\n",
        "        \"label\": item[-1],\n",
        "        \"value\": calcDistance(item, point)\n",
        "    })\n",
        "    distances.sort(key=lambda x: x[\"value\"])\n",
        "    labels = [item[\"label\"] for item in distances]\n",
        "    return labels[:k]"
      ],
      "metadata": {
        "id": "M3OYhO7j7ZRS"
      },
      "execution_count": null,
      "outputs": []
    },
    {
      "cell_type": "code",
      "source": [
        "def findMostOccur(arr):\n",
        "  labels = set(arr)\n",
        "  ans = \"\"\n",
        "  maxOccur = 0\n",
        "  for label in labels:\n",
        "    num = arr.count(label)\n",
        "    if num>maxOccur:\n",
        "      maxOccur=num\n",
        "      ans = label\n",
        "  return ans"
      ],
      "metadata": {
        "id": "IJJPrgEz8C5q"
      },
      "execution_count": null,
      "outputs": []
    },
    {
      "cell_type": "code",
      "source": [
        "if __name__ == \"__main__\":\n",
        "  trainSet, testSet = loadData(\"Iris.csv\")\n",
        "  for item in testSet:\n",
        "    knn = KNeighbor(trainSet, item, 5)\n",
        "    answer = findMostOccur(knn)\n",
        "    print(\"label: {} --> Du doan (predicted):{}\".format(item[-1], answer))\n"
      ],
      "metadata": {
        "colab": {
          "base_uri": "https://localhost:8080/"
        },
        "id": "S2tNBjyF8Z3J",
        "outputId": "d15534ad-ef9d-445a-ffc7-c9297f275eed"
      },
      "execution_count": null,
      "outputs": [
        {
          "output_type": "stream",
          "name": "stdout",
          "text": [
            "label: Iris-versicolor --> Du doan (predicted):Iris-versicolor\n",
            "label: Iris-setosa --> Du doan (predicted):Iris-versicolor\n",
            "label: Iris-setosa --> Du doan (predicted):Iris-versicolor\n",
            "label: Iris-setosa --> Du doan (predicted):Iris-versicolor\n",
            "label: Iris-setosa --> Du doan (predicted):Iris-versicolor\n",
            "label: Iris-setosa --> Du doan (predicted):Iris-versicolor\n",
            "label: Iris-virginica --> Du doan (predicted):Iris-versicolor\n",
            "label: Iris-versicolor --> Du doan (predicted):Iris-versicolor\n",
            "label: Iris-virginica --> Du doan (predicted):Iris-versicolor\n",
            "label: Iris-versicolor --> Du doan (predicted):Iris-versicolor\n",
            "label: Iris-versicolor --> Du doan (predicted):Iris-versicolor\n",
            "label: Iris-virginica --> Du doan (predicted):Iris-versicolor\n",
            "label: Iris-virginica --> Du doan (predicted):Iris-versicolor\n",
            "label: Iris-setosa --> Du doan (predicted):Iris-versicolor\n",
            "label: Iris-setosa --> Du doan (predicted):Iris-versicolor\n",
            "label: Iris-setosa --> Du doan (predicted):Iris-versicolor\n",
            "label: Iris-versicolor --> Du doan (predicted):Iris-versicolor\n",
            "label: Iris-versicolor --> Du doan (predicted):Iris-versicolor\n",
            "label: Iris-virginica --> Du doan (predicted):Iris-versicolor\n",
            "label: Iris-virginica --> Du doan (predicted):Iris-versicolor\n",
            "label: Iris-versicolor --> Du doan (predicted):Iris-versicolor\n",
            "label: Iris-versicolor --> Du doan (predicted):Iris-versicolor\n",
            "label: Iris-virginica --> Du doan (predicted):Iris-versicolor\n",
            "label: Iris-setosa --> Du doan (predicted):Iris-versicolor\n",
            "label: Iris-versicolor --> Du doan (predicted):Iris-versicolor\n",
            "label: Iris-virginica --> Du doan (predicted):Iris-versicolor\n",
            "label: Iris-virginica --> Du doan (predicted):Iris-versicolor\n",
            "label: Iris-virginica --> Du doan (predicted):Iris-versicolor\n",
            "label: Iris-virginica --> Du doan (predicted):Iris-versicolor\n",
            "label: Iris-versicolor --> Du doan (predicted):Iris-versicolor\n",
            "label: Iris-setosa --> Du doan (predicted):Iris-versicolor\n",
            "label: Iris-versicolor --> Du doan (predicted):Iris-versicolor\n",
            "label: Iris-virginica --> Du doan (predicted):Iris-versicolor\n",
            "label: Iris-versicolor --> Du doan (predicted):Iris-versicolor\n",
            "label: Iris-virginica --> Du doan (predicted):Iris-versicolor\n",
            "label: Iris-setosa --> Du doan (predicted):Iris-versicolor\n",
            "label: Iris-setosa --> Du doan (predicted):Iris-versicolor\n",
            "label: Iris-setosa --> Du doan (predicted):Iris-versicolor\n",
            "label: Iris-versicolor --> Du doan (predicted):Iris-versicolor\n",
            "label: Iris-versicolor --> Du doan (predicted):Iris-versicolor\n",
            "label: Iris-setosa --> Du doan (predicted):Iris-versicolor\n",
            "label: Iris-versicolor --> Du doan (predicted):Iris-versicolor\n",
            "label: Iris-setosa --> Du doan (predicted):Iris-versicolor\n",
            "label: Iris-versicolor --> Du doan (predicted):Iris-versicolor\n",
            "label: Iris-versicolor --> Du doan (predicted):Iris-versicolor\n",
            "label: Iris-virginica --> Du doan (predicted):Iris-versicolor\n",
            "label: Iris-versicolor --> Du doan (predicted):Iris-versicolor\n",
            "label: Iris-virginica --> Du doan (predicted):Iris-versicolor\n",
            "label: Iris-virginica --> Du doan (predicted):Iris-versicolor\n",
            "label: Iris-setosa --> Du doan (predicted):Iris-versicolor\n"
          ]
        }
      ]
    }
  ]
}