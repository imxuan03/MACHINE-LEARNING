{
  "nbformat": 4,
  "nbformat_minor": 0,
  "metadata": {
    "colab": {
      "provenance": []
    },
    "kernelspec": {
      "name": "python3",
      "display_name": "Python 3"
    },
    "language_info": {
      "name": "python"
    }
  },
  "cells": [
    {
      "cell_type": "markdown",
      "source": [
        "**THÊM THƯ VIỆN**"
      ],
      "metadata": {
        "id": "d26pBeCWontY"
      }
    },
    {
      "cell_type": "code",
      "source": [
        "import csv\n",
        "import numpy as np\n",
        "import pandas as pd\n",
        "import matplotlib.pyplot as plt\n",
        "\n",
        "from sklearn.datasets import load_iris, load_diabetes, load_wine, load_digits, load_breast_cancer\n",
        "from sklearn.model_selection import train_test_split\n",
        "\n",
        "from sklearn.neighbors import KNeighborsClassifier\n",
        "from sklearn.naive_bayes import GaussianNB\n",
        "from sklearn.naive_bayes import MultinomialNB\n",
        "\n",
        "\n",
        "\n",
        "from sklearn.tree import DecisionTreeClassifier\n",
        "\n",
        "from sklearn.model_selection import KFold\n",
        "\n",
        "from sklearn.metrics import accuracy_score,precision_score,recall_score\n",
        "\n",
        "from sklearn.metrics import precision_recall_fscore_support\n",
        "\n",
        "from sklearn.naive_bayes import GaussianNB\n",
        "\n",
        "from sklearn.datasets import make_classification\n",
        "\n",
        "from sklearn.ensemble import BaggingClassifier, AdaBoostClassifier, RandomForestClassifier\n",
        "from sklearn.model_selection import train_test_split\n"
      ],
      "metadata": {
        "id": "K886JhjHozf1"
      },
      "execution_count": null,
      "outputs": []
    },
    {
      "cell_type": "markdown",
      "source": [
        "**Load dữ liệu có sẵn**"
      ],
      "metadata": {
        "id": "d9WMgKVPqYSS"
      }
    },
    {
      "cell_type": "code",
      "source": [
        "iris = load_iris()\n",
        "X, y = iris.data, iris.target"
      ],
      "metadata": {
        "id": "4o3DcA7rsNqv"
      },
      "execution_count": null,
      "outputs": []
    },
    {
      "cell_type": "code",
      "source": [
        "avg_acc = []\n",
        "avg_prec = []\n",
        "avg_rec = []\n",
        "avg_f1 = []"
      ],
      "metadata": {
        "id": "3Ol4o8lI1hCs"
      },
      "execution_count": null,
      "outputs": []
    },
    {
      "cell_type": "markdown",
      "source": [
        "**Chia tập dữ liệu thành bộ Train và Test**"
      ],
      "metadata": {
        "id": "_oJF_-Qks4M_"
      }
    },
    {
      "cell_type": "code",
      "source": [
        "X_Train, X_Test, Y_Train, Y_Test = train_test_split(X, y, test_size=1/3, random_state=10)"
      ],
      "metadata": {
        "id": "vmOZkkq4s_Dz"
      },
      "execution_count": null,
      "outputs": []
    },
    {
      "cell_type": "markdown",
      "source": [
        "**Huấn luyện mô hình KNN**"
      ],
      "metadata": {
        "id": "VxqvVDtntkYn"
      }
    },
    {
      "cell_type": "code",
      "source": [
        "knn_classifier = KNeighborsClassifier(n_neighbors=3)\n",
        "knn_classifier.fit(X_Train, Y_Train)\n",
        "y_pred_knn = knn_classifier.predict(X_Test)\n",
        "accuracy_knn = accuracy_score(Y_Test,y_pred_knn )\n",
        "print(\"Do chinh xac cua KNN:\", accuracy_knn)"
      ],
      "metadata": {
        "colab": {
          "base_uri": "https://localhost:8080/"
        },
        "id": "Xbal2YHatnmR",
        "outputId": "12d19de3-4ba9-4188-aaf6-052d385bcbe4"
      },
      "execution_count": null,
      "outputs": [
        {
          "output_type": "stream",
          "name": "stdout",
          "text": [
            "Do chinh xac cua KNN: 0.96\n"
          ]
        }
      ]
    },
    {
      "cell_type": "markdown",
      "source": [
        "**Huấn luận mô hình Decision Tree**"
      ],
      "metadata": {
        "id": "kRjDZZC4t0Xl"
      }
    },
    {
      "cell_type": "code",
      "source": [
        "decision_tree = DecisionTreeClassifier(random_state=20)\n",
        "decision_tree.fit(X_Train, Y_Train)\n",
        "y_pred_dt = decision_tree.predict(X_Test)\n",
        "accuracy_dt = accuracy_score(Y_Test,y_pred_dt )\n",
        "print(\"Do chinh xac cua Decision Tree:\", accuracy_dt)"
      ],
      "metadata": {
        "colab": {
          "base_uri": "https://localhost:8080/"
        },
        "id": "wvYmaVQEt8bi",
        "outputId": "1cb9b6b6-96ef-439c-8818-2471771947d2"
      },
      "execution_count": null,
      "outputs": [
        {
          "output_type": "stream",
          "name": "stdout",
          "text": [
            "Do chinh xac cua Decision Tree: 0.9\n"
          ]
        }
      ]
    },
    {
      "cell_type": "markdown",
      "source": [
        "**Huấn luyện mô hình Bagging**"
      ],
      "metadata": {
        "id": "VS_zVmjdu5Zj"
      }
    },
    {
      "cell_type": "code",
      "source": [
        "bagging_classifier = BaggingClassifier(estimator=DecisionTreeClassifier(), n_estimators=100,\n",
        "random_state=42)\n",
        "bagging_classifier.fit(X_Train, Y_Train)\n",
        "y_pred_bagging = bagging_classifier.predict(X_Test)\n",
        "accuracy_bagging = accuracy_score(Y_Test,y_pred_bagging )\n",
        "print(\"Do chinh xac cua Bagging:\", accuracy_bagging)"
      ],
      "metadata": {
        "colab": {
          "base_uri": "https://localhost:8080/"
        },
        "id": "g0xnS_L2vBc5",
        "outputId": "a9cc856c-0c10-4bd2-8bf8-5a7e4c76b079"
      },
      "execution_count": null,
      "outputs": [
        {
          "output_type": "stream",
          "name": "stdout",
          "text": [
            "Do chinh xac cua Bagging: 0.94\n"
          ]
        }
      ]
    },
    {
      "cell_type": "markdown",
      "source": [
        "**AdaBoost**"
      ],
      "metadata": {
        "id": "fPFFqtFqwYJg"
      }
    },
    {
      "cell_type": "code",
      "source": [
        "adaboost_classifier = AdaBoostClassifier(estimator=DecisionTreeClassifier(max_depth=1), n_estimators=100,\n",
        "random_state=42)\n",
        "adaboost_classifier.fit(X_Train, Y_Train)\n",
        "y_pred_adaboost = adaboost_classifier.predict(X_Test)\n",
        "accuracy_adaboost = accuracy_score(Y_Test,y_pred_adaboost )\n",
        "print(\"Do chinh xac cua AdaBoost:\", accuracy_adaboost)"
      ],
      "metadata": {
        "colab": {
          "base_uri": "https://localhost:8080/"
        },
        "id": "ReZFY2XvwatH",
        "outputId": "6efa2f69-0422-4a95-9f12-297356839daa"
      },
      "execution_count": null,
      "outputs": [
        {
          "output_type": "stream",
          "name": "stdout",
          "text": [
            "Do chinh xac cua AdaBoost: 0.96\n"
          ]
        }
      ]
    },
    {
      "cell_type": "markdown",
      "source": [
        "**Random Forest**"
      ],
      "metadata": {
        "id": "gzCOpIvpw4Uc"
      }
    },
    {
      "cell_type": "code",
      "source": [
        "random_forest = RandomForestClassifier( n_estimators=100,random_state=42)\n",
        "random_forest.fit(X_Train, Y_Train)\n",
        "y_pred_rf = random_forest.predict(X_Test)\n",
        "accuracy_rf = accuracy_score(Y_Test,y_pred_rf )\n",
        "print(\"Do chinh xac cua Random Forest:\", accuracy_rf)"
      ],
      "metadata": {
        "colab": {
          "base_uri": "https://localhost:8080/"
        },
        "id": "AIp2I4VYw7tt",
        "outputId": "2c7cc314-9d63-4fd6-e63f-937b0bc820fa"
      },
      "execution_count": null,
      "outputs": [
        {
          "output_type": "stream",
          "name": "stdout",
          "text": [
            "Do chinh xac cua Random Forest: 0.96\n"
          ]
        }
      ]
    },
    {
      "cell_type": "markdown",
      "source": [
        "**Huấn luyện mô hình sử dụng Naive Bayesian**"
      ],
      "metadata": {
        "id": "pDLUPqFpuGMG"
      }
    },
    {
      "cell_type": "code",
      "source": [
        "bayesian = GaussianNB()\n",
        "bayesian.fit(X_Train, Y_Train)\n",
        "y_pred_by = bayesian.predict(X_Test)\n",
        "accuracy_by = accuracy_score(Y_Test,y_pred_by )\n",
        "print(\"Do chinh xac cua Naive Bayesian:\", accuracy_by)\n"
      ],
      "metadata": {
        "colab": {
          "base_uri": "https://localhost:8080/"
        },
        "id": "jH1jB0OluM--",
        "outputId": "b51e3bc8-c71e-4472-e5bb-5db77fe30374"
      },
      "execution_count": null,
      "outputs": [
        {
          "output_type": "stream",
          "name": "stdout",
          "text": [
            "Do chinh xac cua Naive Bayesian: 0.94\n"
          ]
        }
      ]
    },
    {
      "cell_type": "markdown",
      "source": [
        "**Dự đoán kết quả huyến luyện**"
      ],
      "metadata": {
        "id": "Kl44pStsuT0F"
      }
    },
    {
      "cell_type": "code",
      "source": [
        "predicted=model.predict([X_Test[4]])\n",
        "print(\"Actual Value:\", Y_Test[4])\n",
        "print(\"Predicted Value:\",predicted[0])\n"
      ],
      "metadata": {
        "colab": {
          "base_uri": "https://localhost:8080/"
        },
        "id": "vYoHZS0ruXzO",
        "outputId": "d8c3aaa7-aed3-43f6-cfcc-1e9ea2855b77"
      },
      "execution_count": null,
      "outputs": [
        {
          "output_type": "stream",
          "name": "stdout",
          "text": [
            "Actual Value: 0\n",
            "Predicted Value: 0\n"
          ]
        }
      ]
    },
    {
      "cell_type": "code",
      "source": [
        "# Du doan (TEST) .predict()\n",
        "\n",
        "Y_DuDoan = model.predict(X_Test)\n",
        "print(\"Ket qua du doan:\", Y_DuDoan)\n",
        "print(\"Ket qua thuc te:\", Y_Test)"
      ],
      "metadata": {
        "colab": {
          "base_uri": "https://localhost:8080/"
        },
        "id": "ytob-P5juvCZ",
        "outputId": "e3673081-147b-48a9-e37f-5cc8d2fe2447"
      },
      "execution_count": null,
      "outputs": [
        {
          "output_type": "stream",
          "name": "stdout",
          "text": [
            "Ket qua du doan: [1 2 0 1 0 1 1 1 0 1 1 2 1 0 0 2 1 0 0 0 2 2 2 0 1 0 1 1 1 2 1 1 2 2 2 0 2\n",
            " 2 2 2 0 0 1 0 1 0 1 2 2 2]\n",
            "Ket qua thuc te: [1 2 0 1 0 1 1 1 0 1 1 2 1 0 0 2 1 0 0 0 2 2 2 0 1 0 1 1 1 2 1 1 2 2 2 0 2\n",
            " 2 2 2 0 0 1 0 1 0 1 1 2 2]\n"
          ]
        }
      ]
    },
    {
      "cell_type": "markdown",
      "source": [
        "**Đánh giá mô hình**"
      ],
      "metadata": {
        "id": "JgsFGHpXvBiz"
      }
    },
    {
      "cell_type": "code",
      "source": [
        "from sklearn.metrics import(\n",
        "    accuracy_score,\n",
        "    confusion_matrix,\n",
        "    ConfusionMatrixDisplay,\n",
        "    f1_score,\n",
        ")"
      ],
      "metadata": {
        "id": "3HTF9ItxvEBI"
      },
      "execution_count": null,
      "outputs": []
    },
    {
      "cell_type": "code",
      "source": [
        "Y_Pred=model.predict(X_Test)\n",
        "\n",
        "accuray = accuracy_score(Y_Pred, Y_Test)\n",
        "f1 = f1_score(Y_Pred, Y_Test, average=\"weighted\")\n",
        "\n",
        "print(\"Accuracy:\",accuray )\n",
        "print(\"F1 score:\",f1 )"
      ],
      "metadata": {
        "colab": {
          "base_uri": "https://localhost:8080/"
        },
        "id": "EGeJunnUvVTf",
        "outputId": "430c6655-f977-4640-ffd9-ee8e3fd19ce4"
      },
      "execution_count": null,
      "outputs": [
        {
          "output_type": "stream",
          "name": "stdout",
          "text": [
            "Accuracy: 0.98\n",
            "F1 score: 0.97996723996724\n"
          ]
        }
      ]
    },
    {
      "cell_type": "code",
      "source": [
        "labels = [0,1,2]\n",
        "cm=confusion_matrix(Y_Test,Y_Pred,labels=labels)\n",
        "disp = ConfusionMatrixDisplay(confusion_matrix=cm, display_labels=labels)\n",
        "disp.plot()"
      ],
      "metadata": {
        "colab": {
          "base_uri": "https://localhost:8080/",
          "height": 473
        },
        "id": "d2D-C_iavqQE",
        "outputId": "00b99777-79f9-4e24-e5c5-e1f2e7202177"
      },
      "execution_count": null,
      "outputs": [
        {
          "output_type": "execute_result",
          "data": {
            "text/plain": [
              "<sklearn.metrics._plot.confusion_matrix.ConfusionMatrixDisplay at 0x79912cebe1d0>"
            ]
          },
          "metadata": {},
          "execution_count": 269
        },
        {
          "output_type": "display_data",
          "data": {
            "text/plain": [
              "<Figure size 640x480 with 2 Axes>"
            ],
            "image/png": "[encoded data removed]"
          },
          "metadata": {}
        }
      ]
    },
    {
      "cell_type": "markdown",
      "source": [
        "**Huấn luyện mô hình KNN 10 lần**"
      ],
      "metadata": {
        "id": "iNPh7GEiwHHu"
      }
    },
    {
      "cell_type": "code",
      "source": [
        "import random\n",
        "import statistics\n",
        "temp= []\n",
        "avg_acc = []\n",
        "avg_prec = []\n",
        "avg_rec = []\n",
        "avg_f1 = []\n",
        "for k_neighbor in range(1,21):\n",
        "    for each in range(1,11):\n",
        "      combined = list(zip(X, y))\n",
        "      random.shuffle(combined)\n",
        "      dulieu_X_shuffled, dulieu_Y_shuffled=zip(*combined)\n",
        "      X_Train, X_Test, Y_Train, Y_Test = train_test_split(dulieu_X_shuffled,dulieu_Y_shuffled, test_size=1/3, random_state=125 )\n",
        "\n",
        "      model = KNeighborsClassifier(k_neighbor)\n",
        "      model.fit(X_Train, Y_Train)\n",
        "      Y_Pred = model.predict(X_Test)\n",
        "\n",
        "      Ketqua_Dochinhxac = accuracy_score(Y_Test, Y_Pred)*100\n",
        "      Ketqua_Precision = precision_score(Y_Test,Y_Pred, average='weighted')*100\n",
        "      Ketqua_Recall = recall_score(Y_Test,Y_Pred, average='weighted')*100\n",
        "      Ketqua_F1 = f1_score(Y_Test,Y_Pred, average='weighted')*100\n",
        "\n",
        "      avg_acc.append(Ketqua_Dochinhxac)\n",
        "      avg_prec.append(Ketqua_Precision)\n",
        "      avg_rec.append(Ketqua_Recall)\n",
        "      avg_f1.append(Ketqua_F1)\n",
        "\n",
        "    acc = statistics.mean(avg_acc)\n",
        "    prec = statistics.mean(avg_prec)\n",
        "    rec = statistics.mean(avg_rec)\n",
        "    f1 = statistics.mean(avg_f1)\n",
        "\n",
        "    print(\"No.{}: Acc:{} - Prec:{} - Rec:{} - F1:{}\".format(k_neighbor,acc,prec,rec,f1))\n",
        "\n"
      ],
      "metadata": {
        "colab": {
          "base_uri": "https://localhost:8080/"
        },
        "id": "2WLGOK86wM9Y",
        "outputId": "e262d708-fffd-44bd-b3a9-f309094f006a"
      },
      "execution_count": null,
      "outputs": [
        {
          "output_type": "stream",
          "name": "stdout",
          "text": [
            "No.1: Acc:95.0 - Prec:95.12656051894442 - Rec:95.0 - F1:95.00439304891637\n",
            "No.2: Acc:94.1 - Prec:94.63598673153471 - Rec:94.1 - F1:94.0859520737968\n",
            "No.3: Acc:94.6 - Prec:95.02063832784576 - Rec:94.6 - F1:94.59052394694555\n",
            "No.4: Acc:94.8 - Prec:95.17946864487422 - Rec:94.8 - F1:94.79323836985756\n",
            "No.5: Acc:95.04 - Prec:95.38661081446932 - Rec:95.04 - F1:95.03363077472133\n",
            "No.6: Acc:95.06666666666666 - Prec:95.46927660096468 - Rec:95.06666666666666 - F1:95.06479818535567\n",
            "No.7: Acc:95.11428571428571 - Prec:95.52704228134635 - Rec:95.11428571428571 - F1:95.11213835989732\n",
            "No.8: Acc:95.425 - Prec:95.80830180081786 - Rec:95.425 - F1:95.42370062805388\n",
            "No.9: Acc:95.26666666666667 - Prec:95.69958681703574 - Rec:95.26666666666667 - F1:95.26692049193875\n",
            "No.10: Acc:95.14 - Prec:95.64776597238331 - Rec:95.14 - F1:95.14210963099967\n",
            "No.11: Acc:95.2 - Prec:95.67597256814862 - Rec:95.2 - F1:95.20189827689825\n",
            "No.12: Acc:95.23333333333333 - Prec:95.69466058398373 - Rec:95.23333333333333 - F1:95.23586562983606\n",
            "No.13: Acc:95.32307692307693 - Prec:95.77036150399309 - Rec:95.32307692307693 - F1:95.3253367631772\n",
            "No.14: Acc:95.38571428571429 - Prec:95.81870558401573 - Rec:95.38571428571429 - F1:95.3882232307498\n",
            "No.15: Acc:95.38666666666667 - Prec:95.81082437141188 - Rec:95.38666666666667 - F1:95.3886026819297\n",
            "No.16: Acc:95.35 - Prec:95.77502576890353 - Rec:95.35 - F1:95.35133598332217\n",
            "No.17: Acc:95.38823529411765 - Prec:95.8022558034815 - Rec:95.38823529411765 - F1:95.38992455806903\n",
            "No.18: Acc:95.37777777777778 - Prec:95.78636552926118 - Rec:95.37777777777778 - F1:95.37878648556737\n",
            "No.19: Acc:95.38947368421053 - Prec:95.80047349802813 - Rec:95.38947368421053 - F1:95.39131936069903\n",
            "No.20: Acc:95.32 - Prec:95.74962171457004 - Rec:95.32 - F1:95.32235498507318\n"
          ]
        }
      ]
    },
    {
      "cell_type": "markdown",
      "source": [
        "**Huấn luyệnn mô hình Bayesian 10 lần**"
      ],
      "metadata": {
        "id": "GJ8296aR2Xf9"
      }
    },
    {
      "cell_type": "code",
      "source": [
        "import random\n",
        "import statistics\n",
        "temp= []\n",
        "avg_acc = []\n",
        "avg_prec = []\n",
        "avg_rec = []\n",
        "avg_f1 = []\n",
        "for each in range(1,10):\n",
        "  combined = list(zip(X, y))\n",
        "  random.shuffle(combined)\n",
        "  dulieu_X_shuffled, dulieu_Y_shuffled=zip(*combined)\n",
        "  X_Train, X_Test, Y_Train, Y_Test = train_test_split(dulieu_X_shuffled,dulieu_Y_shuffled, test_size=1/3, random_state=125 )\n",
        "\n",
        "  model = GaussianNB()\n",
        "  model.fit(X_Train, Y_Train)\n",
        "  Y_Pred = model.predict(X_Test)\n",
        "\n",
        "  Ketqua_Dochinhxac = accuracy_score(Y_Test, Y_Pred)*100\n",
        "  Ketqua_Precision = precision_score(Y_Test,Y_Pred, average='weighted')*100\n",
        "  Ketqua_Recall = recall_score(Y_Test,Y_Pred, average='weighted')*100\n",
        "  Ketqua_F1 = f1_score(Y_Test,Y_Pred, average='weighted')*100\n",
        "\n",
        "  avg_acc.append(Ketqua_Dochinhxac)\n",
        "  avg_prec.append(Ketqua_Precision)\n",
        "  avg_rec.append(Ketqua_Recall)\n",
        "  avg_f1.append(Ketqua_F1)\n",
        "\n",
        "acc = statistics.mean(avg_acc)\n",
        "prec = statistics.mean(avg_prec)\n",
        "rec = statistics.mean(avg_rec)\n",
        "f1 = statistics.mean(avg_f1)\n",
        "\n",
        "print(\"Acc:{} - Prec:{} - Rec:{} - F1:{}\".format(acc,prec,rec,f1))\n"
      ],
      "metadata": {
        "colab": {
          "base_uri": "https://localhost:8080/"
        },
        "id": "GT8hf1WQ2ccx",
        "outputId": "fa560a9b-3ab1-4a15-f6e6-8abbd8b56776"
      },
      "execution_count": null,
      "outputs": [
        {
          "output_type": "stream",
          "name": "stdout",
          "text": [
            "Acc:94.44444444444444 - Prec:94.82627908154224 - Rec:94.44444444444444 - F1:94.38867873508674\n"
          ]
        }
      ]
    },
    {
      "cell_type": "markdown",
      "source": [
        "**Huấn luyện mô hình Decision Tree 10 lần**"
      ],
      "metadata": {
        "id": "xj8i7_Ek3IU0"
      }
    },
    {
      "cell_type": "code",
      "source": [
        "import random\n",
        "import statistics\n",
        "temp= []\n",
        "avg_acc = []\n",
        "avg_prec = []\n",
        "avg_rec = []\n",
        "avg_f1 = []\n",
        "for each in range(1,10):\n",
        "  combined = list(zip(X, y))\n",
        "  random.shuffle(combined)\n",
        "  dulieu_X_shuffled, dulieu_Y_shuffled=zip(*combined)\n",
        "  X_Train, X_Test, Y_Train, Y_Test = train_test_split(dulieu_X_shuffled,dulieu_Y_shuffled, test_size=1/3, random_state=125 )\n",
        "\n",
        "  model = DecisionTreeClassifier(random_state=40, max_depth=3)\n",
        "  model.fit(X_Train, Y_Train)\n",
        "\n",
        "  Y_Pred = model.predict(X_Test)\n",
        "\n",
        "  Ketqua_Dochinhxac = accuracy_score(Y_Test, Y_Pred)*100\n",
        "  Ketqua_Precision = precision_score(Y_Test,Y_Pred, average='weighted')*100\n",
        "  Ketqua_Recall = recall_score(Y_Test,Y_Pred, average='weighted')*100\n",
        "  Ketqua_F1 = f1_score(Y_Test,Y_Pred, average='weighted')*100\n",
        "\n",
        "  avg_acc.append(Ketqua_Dochinhxac)\n",
        "  avg_prec.append(Ketqua_Precision)\n",
        "  avg_rec.append(Ketqua_Recall)\n",
        "  avg_f1.append(Ketqua_F1)\n",
        "\n",
        "acc = statistics.mean(avg_acc)\n",
        "prec = statistics.mean(avg_prec)\n",
        "rec = statistics.mean(avg_rec)\n",
        "f1 = statistics.mean(avg_f1)\n",
        "\n",
        "print(\"Acc:{} - Prec:{} - Rec:{} - F1:{}\".format(acc,prec,rec,f1))\n"
      ],
      "metadata": {
        "colab": {
          "base_uri": "https://localhost:8080/"
        },
        "id": "sunF5cgW3N-X",
        "outputId": "83868c38-2142-4cfb-c79b-7be02026c1f7"
      },
      "execution_count": null,
      "outputs": [
        {
          "output_type": "stream",
          "name": "stdout",
          "text": [
            "Acc:94.66666666666667 - Prec:95.19308661086266 - Rec:94.66666666666667 - F1:94.67433016999202\n"
          ]
        }
      ]
    },
    {
      "cell_type": "markdown",
      "source": [
        "**`Huấn luyên mô hình Bagging 10 lần`**"
      ],
      "metadata": {
        "id": "gL__4KWP3GPB"
      }
    },
    {
      "cell_type": "code",
      "source": [
        "import random\n",
        "import statistics\n",
        "temp= []\n",
        "avg_acc = []\n",
        "avg_prec = []\n",
        "avg_rec = []\n",
        "avg_f1 = []\n",
        "for each in range(1,10):\n",
        "  combined = list(zip(X, y))\n",
        "  random.shuffle(combined)\n",
        "  dulieu_X_shuffled, dulieu_Y_shuffled=zip(*combined)\n",
        "  X_Train, X_Test, Y_Train, Y_Test = train_test_split(dulieu_X_shuffled,dulieu_Y_shuffled, test_size=1/3, random_state=125 )\n",
        "\n",
        "  model = BaggingClassifier(estimator=DecisionTreeClassifier(), n_estimators=45,\n",
        "  random_state=125)\n",
        "  model.fit(X_Train, Y_Train)\n",
        "\n",
        "  Y_Pred = model.predict(X_Test)\n",
        "\n",
        "  Ketqua_Dochinhxac = accuracy_score(Y_Test, Y_Pred)*100\n",
        "  Ketqua_Precision = precision_score(Y_Test,Y_Pred, average='weighted')*100\n",
        "  Ketqua_Recall = recall_score(Y_Test,Y_Pred, average='weighted')*100\n",
        "  Ketqua_F1 = f1_score(Y_Test,Y_Pred, average='weighted')*100\n",
        "\n",
        "  avg_acc.append(Ketqua_Dochinhxac)\n",
        "  avg_prec.append(Ketqua_Precision)\n",
        "  avg_rec.append(Ketqua_Recall)\n",
        "  avg_f1.append(Ketqua_F1)\n",
        "\n",
        "acc = statistics.mean(avg_acc)\n",
        "prec = statistics.mean(avg_prec)\n",
        "rec = statistics.mean(avg_rec)\n",
        "f1 = statistics.mean(avg_f1)\n",
        "\n",
        "print(\"Acc:{} - Prec:{} - Rec:{} - F1:{}\".format(acc,prec,rec,f1))\n"
      ],
      "metadata": {
        "colab": {
          "base_uri": "https://localhost:8080/"
        },
        "id": "224zksDN3MAA",
        "outputId": "4afbc183-7b7e-42ea-80d9-5ad8e63f166c"
      },
      "execution_count": null,
      "outputs": [
        {
          "output_type": "stream",
          "name": "stdout",
          "text": [
            "Acc:95.33333333333333 - Prec:95.72082408189219 - Rec:95.33333333333333 - F1:95.32643859527832\n"
          ]
        }
      ]
    },
    {
      "cell_type": "markdown",
      "source": [
        "**Huấn luyên mô hình AdaBoost 10 lần**"
      ],
      "metadata": {
        "id": "6N9f5zuL37mw"
      }
    },
    {
      "cell_type": "code",
      "source": [
        "import random\n",
        "import statistics\n",
        "temp= []\n",
        "avg_acc = []\n",
        "avg_prec = []\n",
        "avg_rec = []\n",
        "avg_f1 = []\n",
        "for each in range(1,10):\n",
        "  combined = list(zip(X, y))\n",
        "  random.shuffle(combined)\n",
        "  dulieu_X_shuffled, dulieu_Y_shuffled=zip(*combined)\n",
        "  X_Train, X_Test, Y_Train, Y_Test = train_test_split(dulieu_X_shuffled,dulieu_Y_shuffled, test_size=1/3, random_state=125 )\n",
        "\n",
        "  model = AdaBoostClassifier(estimator=DecisionTreeClassifier(max_depth=5), n_estimators=100,\n",
        "  random_state=75)\n",
        "  model.fit(X_Train, Y_Train)\n",
        "\n",
        "  Y_Pred = model.predict(X_Test)\n",
        "\n",
        "  Ketqua_Dochinhxac = accuracy_score(Y_Test, Y_Pred)*100\n",
        "  Ketqua_Precision = precision_score(Y_Test,Y_Pred, average='weighted')\n",
        "  Ketqua_Recall = recall_score(Y_Test,Y_Pred, average='weighted')\n",
        "  Ketqua_F1 = f1_score(Y_Test,Y_Pred, average='weighted')\n",
        "\n",
        "  avg_acc.append(Ketqua_Dochinhxac)\n",
        "  avg_prec.append(Ketqua_Precision)\n",
        "  avg_rec.append(Ketqua_Recall)\n",
        "  avg_f1.append(Ketqua_F1)\n",
        "\n",
        "acc = statistics.mean(avg_acc)\n",
        "prec = statistics.mean(avg_prec)\n",
        "rec = statistics.mean(avg_rec)\n",
        "f1 = statistics.mean(avg_f1)\n",
        "\n",
        "print(\"Acc:{} - Prec:{} - Rec:{} - F1:{}\".format(acc,prec,rec,f1))\n"
      ],
      "metadata": {
        "colab": {
          "base_uri": "https://localhost:8080/"
        },
        "id": "h-Vz7YLZ3_i3",
        "outputId": "cd8ada16-1073-4e9c-c64d-f3b0253a6f63"
      },
      "execution_count": null,
      "outputs": [
        {
          "output_type": "stream",
          "name": "stdout",
          "text": [
            "Acc:93.33333333333333 - Prec:0.9405521313338651 - Rec:0.9333333333333333 - F1:0.9338129155504958\n"
          ]
        }
      ]
    },
    {
      "cell_type": "markdown",
      "source": [
        "****`Huấn luyên mô hình Random Forest lần`****\n"
      ],
      "metadata": {
        "id": "pL8_ANQx4N6F"
      }
    },
    {
      "cell_type": "code",
      "source": [
        "import random\n",
        "import statistics\n",
        "temp= []\n",
        "avg_acc = []\n",
        "avg_prec = []\n",
        "avg_rec = []\n",
        "avg_f1 = []\n",
        "for each in range(1,10):\n",
        "  combined = list(zip(X, y))\n",
        "  random.shuffle(combined)\n",
        "  dulieu_X_shuffled, dulieu_Y_shuffled=zip(*combined)\n",
        "  X_Train, X_Test, Y_Train, Y_Test = train_test_split(dulieu_X_shuffled,dulieu_Y_shuffled, test_size=1/3, random_state=125 )\n",
        "\n",
        "  model = RandomForestClassifier( n_estimators=100,random_state=150, max_depth=3)\n",
        "  model.fit(X_Train, Y_Train)\n",
        "\n",
        "  Y_Pred = model.predict(X_Test)\n",
        "\n",
        "  Ketqua_Dochinhxac = accuracy_score(Y_Test, Y_Pred)*100\n",
        "  Ketqua_Precision = precision_score(Y_Test,Y_Pred, average='weighted')\n",
        "  Ketqua_Recall = recall_score(Y_Test,Y_Pred, average='weighted')\n",
        "  Ketqua_F1 = f1_score(Y_Test,Y_Pred, average='weighted')\n",
        "\n",
        "  avg_acc.append(Ketqua_Dochinhxac)\n",
        "  avg_prec.append(Ketqua_Precision)\n",
        "  avg_rec.append(Ketqua_Recall)\n",
        "  avg_f1.append(Ketqua_F1)\n",
        "\n",
        "acc = statistics.mean(avg_acc)\n",
        "prec = statistics.mean(avg_prec)\n",
        "rec = statistics.mean(avg_rec)\n",
        "f1 = statistics.mean(avg_f1)\n",
        "\n",
        "print(\"Acc:{} - Prec:{} - Rec:{} - F1:{}\".format(acc,prec,rec,f1))\n"
      ],
      "metadata": {
        "colab": {
          "base_uri": "https://localhost:8080/"
        },
        "id": "d3VYUG8Y4VPF",
        "outputId": "2b62fe39-cc21-40f8-fea2-d487283b06a1"
      },
      "execution_count": null,
      "outputs": [
        {
          "output_type": "stream",
          "name": "stdout",
          "text": [
            "Acc:94.0 - Prec:0.9428951009717264 - Rec:0.94 - F1:0.9399048528033017\n"
          ]
        }
      ]
    },
    {
      "cell_type": "markdown",
      "source": [
        "**SVM**"
      ],
      "metadata": {
        "id": "SuoCTN2dGSMd"
      }
    },
    {
      "cell_type": "code",
      "source": [
        "import random\n",
        "from sklearn.svm import SVC\n",
        "import statistics\n",
        "temp= []\n",
        "avg_acc = []\n",
        "avg_prec = []\n",
        "avg_rec = []\n",
        "avg_f1 = []\n",
        "for each in range(1,10):\n",
        "  combined = list(zip(X, y))\n",
        "  random.shuffle(combined)\n",
        "  dulieu_X_shuffled, dulieu_Y_shuffled=zip(*combined)\n",
        "  X_Train, X_Test, Y_Train, Y_Test = train_test_split(dulieu_X_shuffled,dulieu_Y_shuffled, test_size=1/3, random_state=125 )\n",
        "\n",
        "  model = SVC( C=10000,gamma=0.001 )\n",
        "  model.fit(X_Train, Y_Train)\n",
        "\n",
        "  Y_Pred = model.predict(X_Test)\n",
        "\n",
        "  Ketqua_Dochinhxac = accuracy_score(Y_Test, Y_Pred)*100\n",
        "  Ketqua_Precision = precision_score(Y_Test,Y_Pred, average='weighted')\n",
        "  Ketqua_Recall = recall_score(Y_Test,Y_Pred, average='weighted')\n",
        "  Ketqua_F1 = f1_score(Y_Test,Y_Pred, average='weighted')\n",
        "\n",
        "  avg_acc.append(Ketqua_Dochinhxac)\n",
        "  avg_prec.append(Ketqua_Precision)\n",
        "  avg_rec.append(Ketqua_Recall)\n",
        "  avg_f1.append(Ketqua_F1)\n",
        "\n",
        "acc = statistics.mean(avg_acc)\n",
        "prec = statistics.mean(avg_prec)\n",
        "rec = statistics.mean(avg_rec)\n",
        "f1 = statistics.mean(avg_f1)\n",
        "\n",
        "print(\"Acc:{} - Prec:{} - Rec:{} - F1:{}\".format(acc,prec,rec,f1))\n"
      ],
      "metadata": {
        "colab": {
          "base_uri": "https://localhost:8080/"
        },
        "id": "mWGN0AQfGXqN",
        "outputId": "98034e57-ef80-4cb1-9f15-37d2324ed079"
      },
      "execution_count": null,
      "outputs": [
        {
          "output_type": "stream",
          "name": "stdout",
          "text": [
            "Acc:94.44444444444444 - Prec:0.9510265694294837 - Rec:0.9444444444444444 - F1:0.9439731211350831\n"
          ]
        }
      ]
    }
  ]
}